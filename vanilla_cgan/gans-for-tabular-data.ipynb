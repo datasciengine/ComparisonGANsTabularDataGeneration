{
 "cells": [
  {
   "cell_type": "markdown",
   "metadata": {
    "papermill": {
     "duration": 0.028665,
     "end_time": "2021-03-14T18:57:49.041320",
     "exception": false,
     "start_time": "2021-03-14T18:57:49.012655",
     "status": "completed"
    },
    "tags": []
   },
   "source": [
    "<h1><center><font size=\"30\">Generating Tabular Data using GANs</font></center></h1>"
   ]
  },
  {
   "cell_type": "markdown",
   "metadata": {
    "papermill": {
     "duration": 0.02671,
     "end_time": "2021-03-14T18:57:49.096243",
     "exception": false,
     "start_time": "2021-03-14T18:57:49.069533",
     "status": "completed"
    },
    "tags": []
   },
   "source": [
    "# Generative Adversarial Networks"
   ]
  },
  {
   "cell_type": "markdown",
   "metadata": {
    "papermill": {
     "duration": 0.028115,
     "end_time": "2021-03-14T18:57:49.151734",
     "exception": false,
     "start_time": "2021-03-14T18:57:49.123619",
     "status": "completed"
    },
    "tags": []
   },
   "source": [
    "Generative Adversarial Networks are type of unsupervised machine learning method which try to generate new, synthetic instances of data that mimics the real data. They are extremely popular in image, video (Deepfake) and voice generation. Generating tabular data using GANs isn't as popular as generating images, but can still produce some pretty good results. This notebook tries to do just that. GANs are constructed of two neural networks: Generator and Discriminator. Generator, using some random noise as input, tries to mimic the real data and Discriminator tries to classify the data into real and fake. It could be said that they are eachothers enemies. Both Neural Networks (Generator and Discriminator) are trained separately through backpropagation with regards to their loss."
   ]
  },
  {
   "cell_type": "markdown",
   "metadata": {
    "papermill": {
     "duration": 0.026721,
     "end_time": "2021-03-14T18:57:49.205276",
     "exception": false,
     "start_time": "2021-03-14T18:57:49.178555",
     "status": "completed"
    },
    "tags": []
   },
   "source": [
    "## Conditional GAN"
   ]
  },
  {
   "cell_type": "markdown",
   "metadata": {
    "papermill": {
     "duration": 0.026965,
     "end_time": "2021-03-14T18:57:49.259265",
     "exception": false,
     "start_time": "2021-03-14T18:57:49.232300",
     "status": "completed"
    },
    "tags": []
   },
   "source": [
    "Conditional GAN or cGAN is a type of Generative Adversarial Network which adds the label y as an additional parameter to the generator in hope that the corresponding data will be generated. The labels are also added to the discriminator input to distinguish real data better."
   ]
  },
  {
   "cell_type": "code",
   "execution_count": 1,
   "metadata": {
    "_kg_hide-input": true,
    "execution": {
     "iopub.execute_input": "2021-03-14T18:57:49.317319Z",
     "iopub.status.busy": "2021-03-14T18:57:49.316330Z",
     "iopub.status.idle": "2021-03-14T18:57:55.975262Z",
     "shell.execute_reply": "2021-03-14T18:57:55.974458Z"
    },
    "papermill": {
     "duration": 6.689113,
     "end_time": "2021-03-14T18:57:55.975460",
     "exception": false,
     "start_time": "2021-03-14T18:57:49.286347",
     "status": "completed"
    },
    "tags": []
   },
   "outputs": [
    {
     "data": {
      "text/html": [
       "<style type='text/css'>\n",
       ".datatable table.frame { margin-bottom: 0; }\n",
       ".datatable table.frame thead { border-bottom: none; }\n",
       ".datatable table.frame tr.coltypes td {  color: #FFFFFF;  line-height: 6px;  padding: 0 0.5em;}\n",
       ".datatable .bool    { background: #DDDD99; }\n",
       ".datatable .object  { background: #565656; }\n",
       ".datatable .int     { background: #5D9E5D; }\n",
       ".datatable .float   { background: #4040CC; }\n",
       ".datatable .str     { background: #CC4040; }\n",
       ".datatable .row_index {  background: var(--jp-border-color3);  border-right: 1px solid var(--jp-border-color0);  color: var(--jp-ui-font-color3);  font-size: 9px;}\n",
       ".datatable .frame tr.coltypes .row_index {  background: var(--jp-border-color0);}\n",
       ".datatable th:nth-child(2) { padding-left: 12px; }\n",
       ".datatable .hellipsis {  color: var(--jp-cell-editor-border-color);}\n",
       ".datatable .vellipsis {  background: var(--jp-layout-color0);  color: var(--jp-cell-editor-border-color);}\n",
       ".datatable .na {  color: var(--jp-cell-editor-border-color);  font-size: 80%;}\n",
       ".datatable .footer { font-size: 9px; }\n",
       ".datatable .frame_dimensions {  background: var(--jp-border-color3);  border-top: 1px solid var(--jp-border-color0);  color: var(--jp-ui-font-color3);  display: inline-block;  opacity: 0.6;  padding: 1px 10px 1px 5px;}\n",
       "</style>\n"
      ],
      "text/plain": [
       "<IPython.core.display.HTML object>"
      ]
     },
     "metadata": {},
     "output_type": "display_data"
    }
   ],
   "source": [
    "import numpy as np\n",
    "import pandas as pd\n",
    "import matplotlib.pyplot as plt\n",
    "import seaborn as sns\n",
    "from sklearn import preprocessing\n",
    "from sklearn.preprocessing import StandardScaler\n",
    "from sklearn.metrics import precision_score, recall_score, f1_score,\\\n",
    "                            accuracy_score, balanced_accuracy_score,classification_report,\\\n",
    "                            plot_confusion_matrix, confusion_matrix\n",
    "from sklearn.model_selection import KFold, GridSearchCV\n",
    "from sklearn.model_selection import train_test_split\n",
    "\n",
    "import lightgbm as lgb\n",
    "from tensorflow.keras.layers import Input, Dense, Reshape, Flatten, Dropout, multiply, Concatenate\n",
    "from tensorflow.keras.layers import BatchNormalization, Activation, Embedding, ZeroPadding2D, LeakyReLU\n",
    "from tensorflow.keras.models import Sequential, Model\n",
    "from tensorflow.keras.optimizers import Adam\n",
    "from tensorflow.keras.initializers import RandomNormal\n",
    "import tensorflow.keras.backend as K\n",
    "from sklearn.utils import shuffle\n",
    "\n",
    "np.random.seed(1635848)"
   ]
  },
  {
   "cell_type": "code",
   "execution_count": 2,
   "metadata": {
    "execution": {
     "iopub.execute_input": "2021-03-14T18:57:56.069275Z",
     "iopub.status.busy": "2021-03-14T18:57:56.068148Z",
     "iopub.status.idle": "2021-03-14T18:57:56.071512Z",
     "shell.execute_reply": "2021-03-14T18:57:56.071007Z"
    },
    "papermill": {
     "duration": 0.067218,
     "end_time": "2021-03-14T18:57:56.071658",
     "exception": false,
     "start_time": "2021-03-14T18:57:56.004440",
     "status": "completed"
    },
    "tags": []
   },
   "outputs": [],
   "source": [
    "class cGAN():\n",
    "    \n",
    "    \"\"\"\n",
    "    Class containing 3 methods (and __init__): generator, discriminator and train.\n",
    "    Generator is trained using random noise and label as inputs. Discriminator is trained\n",
    "    using real/fake samples and labels as inputs.\n",
    "    \"\"\"\n",
    "    \n",
    "    def __init__(self,latent_dim=32, out_shape=14):\n",
    "        \n",
    "        self.latent_dim = latent_dim\n",
    "        self.out_shape = out_shape \n",
    "        self.num_classes = 2\n",
    "        # using Adam as our optimizer\n",
    "        optimizer = Adam(0.0002, 0.5)\n",
    "        \n",
    "        # building the discriminator\n",
    "        self.discriminator = self.discriminator()\n",
    "        self.discriminator.compile(loss=['binary_crossentropy'],\n",
    "                                   optimizer=optimizer,\n",
    "                                   metrics=['accuracy'])\n",
    "\n",
    "        # building the generator\n",
    "        self.generator = self.generator()\n",
    "\n",
    "        noise = Input(shape=(self.latent_dim,))\n",
    "        label = Input(shape=(1,))\n",
    "        gen_samples = self.generator([noise, label])\n",
    "        \n",
    "        # we don't train discriminator when training generator\n",
    "        self.discriminator.trainable = False\n",
    "        valid = self.discriminator([gen_samples, label])\n",
    "\n",
    "        # combining both models\n",
    "        self.combined = Model([noise, label], valid)\n",
    "        self.combined.compile(loss=['binary_crossentropy'],\n",
    "                              optimizer=optimizer,\n",
    "                             metrics=['accuracy'])\n",
    "\n",
    "\n",
    "    def generator(self):\n",
    "        init = RandomNormal(mean=0.0, stddev=0.02)\n",
    "        model = Sequential()\n",
    "\n",
    "        model.add(Dense(128, input_dim=self.latent_dim))\n",
    "        model.add(Dropout(0.2))\n",
    "        model.add(LeakyReLU(alpha=0.2))\n",
    "        model.add(BatchNormalization(momentum=0.8))\n",
    "\n",
    "        model.add(Dense(256))\n",
    "        model.add(Dropout(0.2))\n",
    "        model.add(LeakyReLU(alpha=0.2))\n",
    "        model.add(BatchNormalization(momentum=0.8))\n",
    "\n",
    "        model.add(Dense(512))\n",
    "        model.add(Dropout(0.2))\n",
    "        model.add(LeakyReLU(alpha=0.2))\n",
    "        model.add(BatchNormalization(momentum=0.8))\n",
    "\n",
    "        model.add(Dense(self.out_shape, activation='tanh'))\n",
    "\n",
    "        noise = Input(shape=(self.latent_dim,))\n",
    "        label = Input(shape=(1,), dtype='int32')\n",
    "        label_embedding = Flatten()(Embedding(self.num_classes, self.latent_dim)(label))\n",
    "        \n",
    "        model_input = multiply([noise, label_embedding])\n",
    "        gen_sample = model(model_input)\n",
    "\n",
    "        return Model([noise, label], gen_sample, name=\"Generator\")\n",
    "\n",
    "    \n",
    "    def discriminator(self):\n",
    "        init = RandomNormal(mean=0.0, stddev=0.02)\n",
    "        model = Sequential()\n",
    "\n",
    "        model.add(Dense(512, input_dim=self.out_shape, kernel_initializer=init))\n",
    "        model.add(LeakyReLU(alpha=0.2))\n",
    "        \n",
    "        model.add(Dense(256, kernel_initializer=init))\n",
    "        model.add(LeakyReLU(alpha=0.2))\n",
    "        model.add(Dropout(0.4))\n",
    "        \n",
    "        model.add(Dense(128, kernel_initializer=init))\n",
    "        model.add(LeakyReLU(alpha=0.2))\n",
    "        model.add(Dropout(0.4))\n",
    "        \n",
    "        model.add(Dense(1, activation='sigmoid'))\n",
    "        \n",
    "        gen_sample = Input(shape=(self.out_shape,))\n",
    "        label = Input(shape=(1,), dtype='int32')\n",
    "        label_embedding = Flatten()(Embedding(self.num_classes, self.out_shape)(label))\n",
    "\n",
    "        model_input = multiply([gen_sample, label_embedding])\n",
    "        validity = model(model_input)\n",
    "\n",
    "        return Model(inputs=[gen_sample, label], outputs=validity, name=\"Discriminator\")\n",
    "\n",
    "\n",
    "    def train(self, X_train, y_train, pos_index, neg_index, epochs, sampling=False, batch_size=32, sample_interval=100, plot=True): \n",
    "        \n",
    "        # though not recommended, defining losses as global helps as in analysing our cgan out of the class\n",
    "        global G_losses\n",
    "        global D_losses\n",
    "        \n",
    "        G_losses = []\n",
    "        D_losses = []\n",
    "        # Adversarial ground truths\n",
    "        valid = np.ones((batch_size, 1))\n",
    "        fake = np.zeros((batch_size, 1))\n",
    "\n",
    "        for epoch in range(epochs):\n",
    "            \n",
    "            # if sampling==True --> train discriminator with 8 sample from postivite class and rest with negative class\n",
    "            if sampling:\n",
    "                idx1 = np.random.choice(pos_index, 8)\n",
    "                idx0 = np.random.choice(neg_index, batch_size-8)\n",
    "                idx = np.concatenate((idx1, idx0))\n",
    "            # if sampling!=True --> train discriminator using random instances in batches of 32\n",
    "            else:\n",
    "                idx = np.random.choice(len(y_train), batch_size)\n",
    "            samples, labels = X_train[idx], y_train[idx]\n",
    "            samples, labels = shuffle(samples, labels)\n",
    "            \n",
    "            # Sample noise as generator input\n",
    "            noise = np.random.normal(0, 1, (batch_size, self.latent_dim))\n",
    "            gen_samples = self.generator.predict([noise, labels])\n",
    "\n",
    "            # label smoothing\n",
    "            if epoch < epochs//1.5:\n",
    "                valid_smooth = (valid+0.1)-(np.random.random(valid.shape)*0.1)\n",
    "                fake_smooth = (fake-0.1)+(np.random.random(fake.shape)*0.1)\n",
    "            else:\n",
    "                valid_smooth = valid \n",
    "                fake_smooth = fake\n",
    "                \n",
    "            # Train the discriminator\n",
    "            self.discriminator.trainable = True\n",
    "            d_loss_real = self.discriminator.train_on_batch([samples, labels], valid_smooth)\n",
    "            d_loss_fake = self.discriminator.train_on_batch([gen_samples, labels], fake_smooth)\n",
    "            d_loss = 0.5 * np.add(d_loss_real, d_loss_fake)\n",
    "\n",
    "            # Train Generator\n",
    "            self.discriminator.trainable = False\n",
    "            sampled_labels = np.random.randint(0, 2, batch_size).reshape(-1, 1)\n",
    "            # Train the generator\n",
    "            g_loss = self.combined.train_on_batch([noise, sampled_labels], valid)\n",
    "\n",
    "            if (epoch+1)%sample_interval==0:\n",
    "                print('[%d/%d]\\tLoss_D: %.4f\\tLoss_G: %.4f'\n",
    "                  % (epoch, epochs, d_loss[0], g_loss[0]))\n",
    "            G_losses.append(g_loss[0])\n",
    "            D_losses.append(d_loss[0])\n",
    "            if plot:\n",
    "                if epoch+1==epochs:\n",
    "                    plt.figure(figsize=(10,5))\n",
    "                    plt.title(\"Generator and Discriminator Loss\")\n",
    "                    plt.plot(G_losses,label=\"G\")\n",
    "                    plt.plot(D_losses,label=\"D\")\n",
    "                    plt.xlabel(\"iterations\")\n",
    "                    plt.ylabel(\"Loss\")\n",
    "                    plt.legend()\n",
    "                    plt.show()"
   ]
  },
  {
   "cell_type": "markdown",
   "metadata": {
    "papermill": {
     "duration": 0.027419,
     "end_time": "2021-03-14T18:57:56.126759",
     "exception": false,
     "start_time": "2021-03-14T18:57:56.099340",
     "status": "completed"
    },
    "tags": []
   },
   "source": [
    "# Adult Census Income Dataset"
   ]
  },
  {
   "cell_type": "markdown",
   "metadata": {
    "papermill": {
     "duration": 0.027245,
     "end_time": "2021-03-14T18:57:56.181591",
     "exception": false,
     "start_time": "2021-03-14T18:57:56.154346",
     "status": "completed"
    },
    "tags": []
   },
   "source": [
    "First dataset has 15 features including one class that we will try to predict (income). Dataset contains a lot of categorical features that need some preprocessing before feeding it into the algorithm."
   ]
  },
  {
   "cell_type": "code",
   "execution_count": 3,
   "metadata": {
    "execution": {
     "iopub.execute_input": "2021-03-14T18:57:56.242129Z",
     "iopub.status.busy": "2021-03-14T18:57:56.241459Z",
     "iopub.status.idle": "2021-03-14T18:57:56.501901Z",
     "shell.execute_reply": "2021-03-14T18:57:56.501357Z"
    },
    "papermill": {
     "duration": 0.292671,
     "end_time": "2021-03-14T18:57:56.502049",
     "exception": false,
     "start_time": "2021-03-14T18:57:56.209378",
     "status": "completed"
    },
    "tags": []
   },
   "outputs": [
    {
     "data": {
      "text/html": [
       "<div>\n",
       "<style scoped>\n",
       "    .dataframe tbody tr th:only-of-type {\n",
       "        vertical-align: middle;\n",
       "    }\n",
       "\n",
       "    .dataframe tbody tr th {\n",
       "        vertical-align: top;\n",
       "    }\n",
       "\n",
       "    .dataframe thead th {\n",
       "        text-align: right;\n",
       "    }\n",
       "</style>\n",
       "<table border=\"1\" class=\"dataframe\">\n",
       "  <thead>\n",
       "    <tr style=\"text-align: right;\">\n",
       "      <th></th>\n",
       "      <th>age</th>\n",
       "      <th>workclass</th>\n",
       "      <th>fnlwgt</th>\n",
       "      <th>education</th>\n",
       "      <th>education.num</th>\n",
       "      <th>marital.status</th>\n",
       "      <th>occupation</th>\n",
       "      <th>relationship</th>\n",
       "      <th>race</th>\n",
       "      <th>sex</th>\n",
       "      <th>capital.gain</th>\n",
       "      <th>capital.loss</th>\n",
       "      <th>hours.per.week</th>\n",
       "      <th>native.country</th>\n",
       "      <th>income</th>\n",
       "    </tr>\n",
       "  </thead>\n",
       "  <tbody>\n",
       "    <tr>\n",
       "      <th>0</th>\n",
       "      <td>90</td>\n",
       "      <td>?</td>\n",
       "      <td>77053</td>\n",
       "      <td>HS-grad</td>\n",
       "      <td>9</td>\n",
       "      <td>Widowed</td>\n",
       "      <td>?</td>\n",
       "      <td>Not-in-family</td>\n",
       "      <td>White</td>\n",
       "      <td>Female</td>\n",
       "      <td>0</td>\n",
       "      <td>4356</td>\n",
       "      <td>40</td>\n",
       "      <td>United-States</td>\n",
       "      <td>&lt;=50K</td>\n",
       "    </tr>\n",
       "    <tr>\n",
       "      <th>1</th>\n",
       "      <td>82</td>\n",
       "      <td>Private</td>\n",
       "      <td>132870</td>\n",
       "      <td>HS-grad</td>\n",
       "      <td>9</td>\n",
       "      <td>Widowed</td>\n",
       "      <td>Exec-managerial</td>\n",
       "      <td>Not-in-family</td>\n",
       "      <td>White</td>\n",
       "      <td>Female</td>\n",
       "      <td>0</td>\n",
       "      <td>4356</td>\n",
       "      <td>18</td>\n",
       "      <td>United-States</td>\n",
       "      <td>&lt;=50K</td>\n",
       "    </tr>\n",
       "    <tr>\n",
       "      <th>2</th>\n",
       "      <td>66</td>\n",
       "      <td>?</td>\n",
       "      <td>186061</td>\n",
       "      <td>Some-college</td>\n",
       "      <td>10</td>\n",
       "      <td>Widowed</td>\n",
       "      <td>?</td>\n",
       "      <td>Unmarried</td>\n",
       "      <td>Black</td>\n",
       "      <td>Female</td>\n",
       "      <td>0</td>\n",
       "      <td>4356</td>\n",
       "      <td>40</td>\n",
       "      <td>United-States</td>\n",
       "      <td>&lt;=50K</td>\n",
       "    </tr>\n",
       "    <tr>\n",
       "      <th>3</th>\n",
       "      <td>54</td>\n",
       "      <td>Private</td>\n",
       "      <td>140359</td>\n",
       "      <td>7th-8th</td>\n",
       "      <td>4</td>\n",
       "      <td>Divorced</td>\n",
       "      <td>Machine-op-inspct</td>\n",
       "      <td>Unmarried</td>\n",
       "      <td>White</td>\n",
       "      <td>Female</td>\n",
       "      <td>0</td>\n",
       "      <td>3900</td>\n",
       "      <td>40</td>\n",
       "      <td>United-States</td>\n",
       "      <td>&lt;=50K</td>\n",
       "    </tr>\n",
       "    <tr>\n",
       "      <th>4</th>\n",
       "      <td>41</td>\n",
       "      <td>Private</td>\n",
       "      <td>264663</td>\n",
       "      <td>Some-college</td>\n",
       "      <td>10</td>\n",
       "      <td>Separated</td>\n",
       "      <td>Prof-specialty</td>\n",
       "      <td>Own-child</td>\n",
       "      <td>White</td>\n",
       "      <td>Female</td>\n",
       "      <td>0</td>\n",
       "      <td>3900</td>\n",
       "      <td>40</td>\n",
       "      <td>United-States</td>\n",
       "      <td>&lt;=50K</td>\n",
       "    </tr>\n",
       "  </tbody>\n",
       "</table>\n",
       "</div>"
      ],
      "text/plain": [
       "   age workclass  fnlwgt     education  education.num marital.status  \\\n",
       "0   90         ?   77053       HS-grad              9        Widowed   \n",
       "1   82   Private  132870       HS-grad              9        Widowed   \n",
       "2   66         ?  186061  Some-college             10        Widowed   \n",
       "3   54   Private  140359       7th-8th              4       Divorced   \n",
       "4   41   Private  264663  Some-college             10      Separated   \n",
       "\n",
       "          occupation   relationship   race     sex  capital.gain  \\\n",
       "0                  ?  Not-in-family  White  Female             0   \n",
       "1    Exec-managerial  Not-in-family  White  Female             0   \n",
       "2                  ?      Unmarried  Black  Female             0   \n",
       "3  Machine-op-inspct      Unmarried  White  Female             0   \n",
       "4     Prof-specialty      Own-child  White  Female             0   \n",
       "\n",
       "   capital.loss  hours.per.week native.country income  \n",
       "0          4356              40  United-States  <=50K  \n",
       "1          4356              18  United-States  <=50K  \n",
       "2          4356              40  United-States  <=50K  \n",
       "3          3900              40  United-States  <=50K  \n",
       "4          3900              40  United-States  <=50K  "
      ]
     },
     "execution_count": 3,
     "metadata": {},
     "output_type": "execute_result"
    }
   ],
   "source": [
    "df = pd.read_csv('../input/adult-census-income/adult.csv')\n",
    "df.head()"
   ]
  },
  {
   "cell_type": "markdown",
   "metadata": {
    "papermill": {
     "duration": 0.02821,
     "end_time": "2021-03-14T18:57:56.558913",
     "exception": false,
     "start_time": "2021-03-14T18:57:56.530703",
     "status": "completed"
    },
    "tags": []
   },
   "source": [
    "Before employing any algorithms, we will first preprocess some data."
   ]
  },
  {
   "cell_type": "markdown",
   "metadata": {
    "papermill": {
     "duration": 0.028048,
     "end_time": "2021-03-14T18:57:56.615301",
     "exception": false,
     "start_time": "2021-03-14T18:57:56.587253",
     "status": "completed"
    },
    "tags": []
   },
   "source": [
    "## Preprocessing"
   ]
  },
  {
   "cell_type": "markdown",
   "metadata": {
    "papermill": {
     "duration": 0.028486,
     "end_time": "2021-03-14T18:57:56.672891",
     "exception": false,
     "start_time": "2021-03-14T18:57:56.644405",
     "status": "completed"
    },
    "tags": []
   },
   "source": [
    "Since the goal of this notebook is to examine how good the generated synthetic data is, we won't analyse and do any feature engineering. It is also not that important that we get the best possible result with the algorithm, so that's one of the reasons why we will only use label-encoding (on some features normally one-hot encoding should be a better approach). "
   ]
  },
  {
   "cell_type": "code",
   "execution_count": 4,
   "metadata": {
    "execution": {
     "iopub.execute_input": "2021-03-14T18:57:56.750226Z",
     "iopub.status.busy": "2021-03-14T18:57:56.749277Z",
     "iopub.status.idle": "2021-03-14T18:57:56.861402Z",
     "shell.execute_reply": "2021-03-14T18:57:56.860853Z"
    },
    "papermill": {
     "duration": 0.160158,
     "end_time": "2021-03-14T18:57:56.861551",
     "exception": false,
     "start_time": "2021-03-14T18:57:56.701393",
     "status": "completed"
    },
    "tags": []
   },
   "outputs": [],
   "source": [
    "le = preprocessing.LabelEncoder()\n",
    "for i in ['workclass','education','marital.status','occupation','relationship','race','sex','native.country','income']:\n",
    "    df[i] = le.fit_transform(df[i].astype(str))"
   ]
  },
  {
   "cell_type": "code",
   "execution_count": 5,
   "metadata": {
    "execution": {
     "iopub.execute_input": "2021-03-14T18:57:56.934314Z",
     "iopub.status.busy": "2021-03-14T18:57:56.933355Z",
     "iopub.status.idle": "2021-03-14T18:57:56.938317Z",
     "shell.execute_reply": "2021-03-14T18:57:56.937677Z"
    },
    "papermill": {
     "duration": 0.048424,
     "end_time": "2021-03-14T18:57:56.938456",
     "exception": false,
     "start_time": "2021-03-14T18:57:56.890032",
     "status": "completed"
    },
    "tags": []
   },
   "outputs": [
    {
     "data": {
      "text/html": [
       "<div>\n",
       "<style scoped>\n",
       "    .dataframe tbody tr th:only-of-type {\n",
       "        vertical-align: middle;\n",
       "    }\n",
       "\n",
       "    .dataframe tbody tr th {\n",
       "        vertical-align: top;\n",
       "    }\n",
       "\n",
       "    .dataframe thead th {\n",
       "        text-align: right;\n",
       "    }\n",
       "</style>\n",
       "<table border=\"1\" class=\"dataframe\">\n",
       "  <thead>\n",
       "    <tr style=\"text-align: right;\">\n",
       "      <th></th>\n",
       "      <th>age</th>\n",
       "      <th>workclass</th>\n",
       "      <th>fnlwgt</th>\n",
       "      <th>education</th>\n",
       "      <th>education.num</th>\n",
       "      <th>marital.status</th>\n",
       "      <th>occupation</th>\n",
       "      <th>relationship</th>\n",
       "      <th>race</th>\n",
       "      <th>sex</th>\n",
       "      <th>capital.gain</th>\n",
       "      <th>capital.loss</th>\n",
       "      <th>hours.per.week</th>\n",
       "      <th>native.country</th>\n",
       "      <th>income</th>\n",
       "    </tr>\n",
       "  </thead>\n",
       "  <tbody>\n",
       "    <tr>\n",
       "      <th>0</th>\n",
       "      <td>90</td>\n",
       "      <td>0</td>\n",
       "      <td>77053</td>\n",
       "      <td>11</td>\n",
       "      <td>9</td>\n",
       "      <td>6</td>\n",
       "      <td>0</td>\n",
       "      <td>1</td>\n",
       "      <td>4</td>\n",
       "      <td>0</td>\n",
       "      <td>0</td>\n",
       "      <td>4356</td>\n",
       "      <td>40</td>\n",
       "      <td>39</td>\n",
       "      <td>0</td>\n",
       "    </tr>\n",
       "    <tr>\n",
       "      <th>1</th>\n",
       "      <td>82</td>\n",
       "      <td>4</td>\n",
       "      <td>132870</td>\n",
       "      <td>11</td>\n",
       "      <td>9</td>\n",
       "      <td>6</td>\n",
       "      <td>4</td>\n",
       "      <td>1</td>\n",
       "      <td>4</td>\n",
       "      <td>0</td>\n",
       "      <td>0</td>\n",
       "      <td>4356</td>\n",
       "      <td>18</td>\n",
       "      <td>39</td>\n",
       "      <td>0</td>\n",
       "    </tr>\n",
       "    <tr>\n",
       "      <th>2</th>\n",
       "      <td>66</td>\n",
       "      <td>0</td>\n",
       "      <td>186061</td>\n",
       "      <td>15</td>\n",
       "      <td>10</td>\n",
       "      <td>6</td>\n",
       "      <td>0</td>\n",
       "      <td>4</td>\n",
       "      <td>2</td>\n",
       "      <td>0</td>\n",
       "      <td>0</td>\n",
       "      <td>4356</td>\n",
       "      <td>40</td>\n",
       "      <td>39</td>\n",
       "      <td>0</td>\n",
       "    </tr>\n",
       "    <tr>\n",
       "      <th>3</th>\n",
       "      <td>54</td>\n",
       "      <td>4</td>\n",
       "      <td>140359</td>\n",
       "      <td>5</td>\n",
       "      <td>4</td>\n",
       "      <td>0</td>\n",
       "      <td>7</td>\n",
       "      <td>4</td>\n",
       "      <td>4</td>\n",
       "      <td>0</td>\n",
       "      <td>0</td>\n",
       "      <td>3900</td>\n",
       "      <td>40</td>\n",
       "      <td>39</td>\n",
       "      <td>0</td>\n",
       "    </tr>\n",
       "    <tr>\n",
       "      <th>4</th>\n",
       "      <td>41</td>\n",
       "      <td>4</td>\n",
       "      <td>264663</td>\n",
       "      <td>15</td>\n",
       "      <td>10</td>\n",
       "      <td>5</td>\n",
       "      <td>10</td>\n",
       "      <td>3</td>\n",
       "      <td>4</td>\n",
       "      <td>0</td>\n",
       "      <td>0</td>\n",
       "      <td>3900</td>\n",
       "      <td>40</td>\n",
       "      <td>39</td>\n",
       "      <td>0</td>\n",
       "    </tr>\n",
       "  </tbody>\n",
       "</table>\n",
       "</div>"
      ],
      "text/plain": [
       "   age  workclass  fnlwgt  education  education.num  marital.status  \\\n",
       "0   90          0   77053         11              9               6   \n",
       "1   82          4  132870         11              9               6   \n",
       "2   66          0  186061         15             10               6   \n",
       "3   54          4  140359          5              4               0   \n",
       "4   41          4  264663         15             10               5   \n",
       "\n",
       "   occupation  relationship  race  sex  capital.gain  capital.loss  \\\n",
       "0           0             1     4    0             0          4356   \n",
       "1           4             1     4    0             0          4356   \n",
       "2           0             4     2    0             0          4356   \n",
       "3           7             4     4    0             0          3900   \n",
       "4          10             3     4    0             0          3900   \n",
       "\n",
       "   hours.per.week  native.country  income  \n",
       "0              40              39       0  \n",
       "1              18              39       0  \n",
       "2              40              39       0  \n",
       "3              40              39       0  \n",
       "4              40              39       0  "
      ]
     },
     "execution_count": 5,
     "metadata": {},
     "output_type": "execute_result"
    }
   ],
   "source": [
    "df.head()"
   ]
  },
  {
   "cell_type": "code",
   "execution_count": 6,
   "metadata": {
    "execution": {
     "iopub.execute_input": "2021-03-14T18:57:57.004415Z",
     "iopub.status.busy": "2021-03-14T18:57:57.003450Z",
     "iopub.status.idle": "2021-03-14T18:57:57.010683Z",
     "shell.execute_reply": "2021-03-14T18:57:57.011167Z"
    },
    "papermill": {
     "duration": 0.043669,
     "end_time": "2021-03-14T18:57:57.011424",
     "exception": false,
     "start_time": "2021-03-14T18:57:56.967755",
     "status": "completed"
    },
    "tags": []
   },
   "outputs": [
    {
     "data": {
      "text/plain": [
       "0    24720\n",
       "1     7841\n",
       "Name: income, dtype: int64"
      ]
     },
     "execution_count": 6,
     "metadata": {},
     "output_type": "execute_result"
    }
   ],
   "source": [
    "df.income.value_counts()"
   ]
  },
  {
   "cell_type": "markdown",
   "metadata": {
    "papermill": {
     "duration": 0.030588,
     "end_time": "2021-03-14T18:57:57.071712",
     "exception": false,
     "start_time": "2021-03-14T18:57:57.041124",
     "status": "completed"
    },
    "tags": []
   },
   "source": [
    "### Splitting the dataframe"
   ]
  },
  {
   "cell_type": "code",
   "execution_count": 7,
   "metadata": {
    "execution": {
     "iopub.execute_input": "2021-03-14T18:57:57.139557Z",
     "iopub.status.busy": "2021-03-14T18:57:57.138411Z",
     "iopub.status.idle": "2021-03-14T18:57:57.172662Z",
     "shell.execute_reply": "2021-03-14T18:57:57.172014Z"
    },
    "papermill": {
     "duration": 0.071211,
     "end_time": "2021-03-14T18:57:57.172869",
     "exception": false,
     "start_time": "2021-03-14T18:57:57.101658",
     "status": "completed"
    },
    "tags": []
   },
   "outputs": [],
   "source": [
    "scaler = StandardScaler()\n",
    "\n",
    "X = scaler.fit_transform(df.drop('income', 1))\n",
    "y = df['income'].values\n",
    "\n",
    "X_train, X_test, y_train, y_test = train_test_split(X, y, test_size=0.2)"
   ]
  },
  {
   "cell_type": "markdown",
   "metadata": {
    "papermill": {
     "duration": 0.029781,
     "end_time": "2021-03-14T18:57:57.232219",
     "exception": false,
     "start_time": "2021-03-14T18:57:57.202438",
     "status": "completed"
    },
    "tags": []
   },
   "source": [
    "### Classifying using real trainset"
   ]
  },
  {
   "cell_type": "code",
   "execution_count": 8,
   "metadata": {
    "execution": {
     "iopub.execute_input": "2021-03-14T18:57:57.298704Z",
     "iopub.status.busy": "2021-03-14T18:57:57.297712Z",
     "iopub.status.idle": "2021-03-14T18:57:57.860462Z",
     "shell.execute_reply": "2021-03-14T18:57:57.860937Z"
    },
    "papermill": {
     "duration": 0.598783,
     "end_time": "2021-03-14T18:57:57.861114",
     "exception": false,
     "start_time": "2021-03-14T18:57:57.262331",
     "status": "completed"
    },
    "tags": []
   },
   "outputs": [
    {
     "name": "stdout",
     "output_type": "stream",
     "text": [
      "              precision    recall  f1-score   support\n",
      "\n",
      "           0       0.89      0.94      0.92      4901\n",
      "           1       0.78      0.65      0.71      1612\n",
      "\n",
      "    accuracy                           0.87      6513\n",
      "   macro avg       0.84      0.80      0.81      6513\n",
      "weighted avg       0.87      0.87      0.87      6513\n",
      "\n"
     ]
    },
    {
     "data": {
      "image/png": "[encoded data removed]",
      "text/plain": [
       "<Figure size 432x288 with 2 Axes>"
      ]
     },
     "metadata": {
      "needs_background": "light"
     },
     "output_type": "display_data"
    }
   ],
   "source": [
    "lgb_1 = lgb.LGBMClassifier()\n",
    "lgb_1.fit(X_train, y_train)\n",
    "\n",
    "y_pred = lgb_1.predict(X_test)\n",
    "\n",
    "# evaluation\n",
    "print(classification_report(y_test, y_pred))\n",
    "plot_confusion_matrix(lgb_1, X_test, y_test)\n",
    "plt.show()"
   ]
  },
  {
   "cell_type": "markdown",
   "metadata": {
    "papermill": {
     "duration": 0.030765,
     "end_time": "2021-03-14T18:57:57.922986",
     "exception": false,
     "start_time": "2021-03-14T18:57:57.892221",
     "status": "completed"
    },
    "tags": []
   },
   "source": [
    "### Training cGAN"
   ]
  },
  {
   "cell_type": "code",
   "execution_count": 9,
   "metadata": {
    "execution": {
     "iopub.execute_input": "2021-03-14T18:57:57.989102Z",
     "iopub.status.busy": "2021-03-14T18:57:57.988117Z",
     "iopub.status.idle": "2021-03-14T18:57:58.354084Z",
     "shell.execute_reply": "2021-03-14T18:57:58.353403Z"
    },
    "papermill": {
     "duration": 0.399933,
     "end_time": "2021-03-14T18:57:58.354226",
     "exception": false,
     "start_time": "2021-03-14T18:57:57.954293",
     "status": "completed"
    },
    "tags": []
   },
   "outputs": [],
   "source": [
    "cgan = cGAN()"
   ]
  },
  {
   "cell_type": "code",
   "execution_count": 10,
   "metadata": {
    "execution": {
     "iopub.execute_input": "2021-03-14T18:57:58.422228Z",
     "iopub.status.busy": "2021-03-14T18:57:58.421562Z",
     "iopub.status.idle": "2021-03-14T18:58:33.511742Z",
     "shell.execute_reply": "2021-03-14T18:58:33.511226Z"
    },
    "papermill": {
     "duration": 35.126648,
     "end_time": "2021-03-14T18:58:33.511909",
     "exception": false,
     "start_time": "2021-03-14T18:57:58.385261",
     "status": "completed"
    },
    "tags": []
   },
   "outputs": [
    {
     "name": "stdout",
     "output_type": "stream",
     "text": [
      "[99/500]\tLoss_D: 0.6904\tLoss_G: 0.6678\n",
      "[199/500]\tLoss_D: 0.6802\tLoss_G: 0.6891\n",
      "[299/500]\tLoss_D: 0.6642\tLoss_G: 0.7140\n",
      "[399/500]\tLoss_D: 0.5067\tLoss_G: 1.1763\n",
      "[499/500]\tLoss_D: 0.4999\tLoss_G: 1.3333\n"
     ]
    },
    {
     "data": {
      "image/png": "[encoded data removed]",
      "text/plain": [
       "<Figure size 720x360 with 1 Axes>"
      ]
     },
     "metadata": {
      "needs_background": "light"
     },
     "output_type": "display_data"
    }
   ],
   "source": [
    "y_train = y_train.reshape(-1,1)\n",
    "pos_index = np.where(y_train==1)[0]\n",
    "neg_index = np.where(y_train==0)[0]\n",
    "cgan.train(X_train, y_train, pos_index, neg_index, epochs=500)"
   ]
  },
  {
   "cell_type": "markdown",
   "metadata": {
    "papermill": {
     "duration": 0.034047,
     "end_time": "2021-03-14T18:58:33.580342",
     "exception": false,
     "start_time": "2021-03-14T18:58:33.546295",
     "status": "completed"
    },
    "tags": []
   },
   "source": [
    "### Generating new instances"
   ]
  },
  {
   "cell_type": "code",
   "execution_count": 11,
   "metadata": {
    "execution": {
     "iopub.execute_input": "2021-03-14T18:58:33.655372Z",
     "iopub.status.busy": "2021-03-14T18:58:33.654567Z",
     "iopub.status.idle": "2021-03-14T18:58:34.930155Z",
     "shell.execute_reply": "2021-03-14T18:58:34.928715Z"
    },
    "papermill": {
     "duration": 1.315571,
     "end_time": "2021-03-14T18:58:34.930353",
     "exception": false,
     "start_time": "2021-03-14T18:58:33.614782",
     "status": "completed"
    },
    "tags": []
   },
   "outputs": [],
   "source": [
    "# we want to generate 19758 instances with class value 0 since that represents how many 0s are in the label of the real training set\n",
    "noise = np.random.normal(0, 1, (19758, 32))\n",
    "sampled_labels = np.zeros(19758).reshape(-1, 1)\n",
    "\n",
    "\n",
    "gen_samples = cgan.generator.predict([noise, sampled_labels])\n",
    "\n",
    "gen_df = pd.DataFrame(data = gen_samples,\n",
    "                      columns = df.drop('income',1).columns)"
   ]
  },
  {
   "cell_type": "code",
   "execution_count": 12,
   "metadata": {
    "execution": {
     "iopub.execute_input": "2021-03-14T18:58:35.006195Z",
     "iopub.status.busy": "2021-03-14T18:58:35.005439Z",
     "iopub.status.idle": "2021-03-14T18:58:35.429671Z",
     "shell.execute_reply": "2021-03-14T18:58:35.428538Z"
    },
    "papermill": {
     "duration": 0.465276,
     "end_time": "2021-03-14T18:58:35.429853",
     "exception": false,
     "start_time": "2021-03-14T18:58:34.964577",
     "status": "completed"
    },
    "tags": []
   },
   "outputs": [],
   "source": [
    "# we want to generate 6290 instances with class value 1 since that represents how many 1s are in the label of the real training set\n",
    "noise_2 = np.random.normal(0, 1, (6290, 32))\n",
    "sampled_labels_2 = np.ones(6290).reshape(-1, 1)\n",
    "\n",
    "\n",
    "gen_samples_2 = cgan.generator.predict([noise_2, sampled_labels_2])\n",
    "\n",
    "gen_df_2 = pd.DataFrame(data = gen_samples_2,\n",
    "                      columns = df.drop('income',1).columns)"
   ]
  },
  {
   "cell_type": "markdown",
   "metadata": {
    "papermill": {
     "duration": 0.034359,
     "end_time": "2021-03-14T18:58:35.498785",
     "exception": false,
     "start_time": "2021-03-14T18:58:35.464426",
     "status": "completed"
    },
    "tags": []
   },
   "source": [
    "### Combining generated instances into a dataframe"
   ]
  },
  {
   "cell_type": "code",
   "execution_count": 13,
   "metadata": {
    "execution": {
     "iopub.execute_input": "2021-03-14T18:58:35.575542Z",
     "iopub.status.busy": "2021-03-14T18:58:35.574674Z",
     "iopub.status.idle": "2021-03-14T18:58:35.586121Z",
     "shell.execute_reply": "2021-03-14T18:58:35.585550Z"
    },
    "papermill": {
     "duration": 0.053301,
     "end_time": "2021-03-14T18:58:35.586331",
     "exception": false,
     "start_time": "2021-03-14T18:58:35.533030",
     "status": "completed"
    },
    "tags": []
   },
   "outputs": [],
   "source": [
    "gen_df_2['income'] = 1\n",
    "gen_df['income']=0\n",
    "\n",
    "df_gan = pd.concat([gen_df_2, gen_df], ignore_index=True, sort=False)\n",
    "df_gan = df_gan.sample(frac=1).reset_index(drop=True)\n",
    "\n",
    "X_train_2 = df_gan.drop('income', 1)\n",
    "y_train_2 = df_gan['income'].values"
   ]
  },
  {
   "cell_type": "markdown",
   "metadata": {
    "papermill": {
     "duration": 0.039153,
     "end_time": "2021-03-14T18:58:35.665916",
     "exception": false,
     "start_time": "2021-03-14T18:58:35.626763",
     "status": "completed"
    },
    "tags": []
   },
   "source": [
    "### Classifying testset using generated trainset"
   ]
  },
  {
   "cell_type": "code",
   "execution_count": 14,
   "metadata": {
    "execution": {
     "iopub.execute_input": "2021-03-14T18:58:35.758374Z",
     "iopub.status.busy": "2021-03-14T18:58:35.757328Z",
     "iopub.status.idle": "2021-03-14T18:58:36.585949Z",
     "shell.execute_reply": "2021-03-14T18:58:36.585405Z"
    },
    "papermill": {
     "duration": 0.874995,
     "end_time": "2021-03-14T18:58:36.586153",
     "exception": false,
     "start_time": "2021-03-14T18:58:35.711158",
     "status": "completed"
    },
    "tags": []
   },
   "outputs": [
    {
     "name": "stdout",
     "output_type": "stream",
     "text": [
      "              precision    recall  f1-score   support\n",
      "\n",
      "           0       0.76      0.97      0.86      4901\n",
      "           1       0.51      0.09      0.16      1612\n",
      "\n",
      "    accuracy                           0.75      6513\n",
      "   macro avg       0.64      0.53      0.51      6513\n",
      "weighted avg       0.70      0.75      0.68      6513\n",
      "\n"
     ]
    },
    {
     "data": {
      "image/png": "[encoded data removed]",
      "text/plain": [
       "<Figure size 432x288 with 2 Axes>"
      ]
     },
     "metadata": {
      "needs_background": "light"
     },
     "output_type": "display_data"
    }
   ],
   "source": [
    "lgb_1 = lgb.LGBMClassifier()\n",
    "lgb_1.fit(X_train_2, y_train_2)\n",
    "\n",
    "y_pred = lgb_1.predict(X_test)\n",
    "\n",
    "print(classification_report(y_test, y_pred))\n",
    "plot_confusion_matrix(lgb_1, X_test, y_test)\n",
    "plt.show()"
   ]
  },
  {
   "cell_type": "markdown",
   "metadata": {
    "papermill": {
     "duration": 0.037376,
     "end_time": "2021-03-14T18:58:36.660366",
     "exception": false,
     "start_time": "2021-03-14T18:58:36.622990",
     "status": "completed"
    },
    "tags": []
   },
   "source": [
    "# Skin Segmentation Dataset"
   ]
  },
  {
   "cell_type": "markdown",
   "metadata": {
    "papermill": {
     "duration": 0.03693,
     "end_time": "2021-03-14T18:58:36.733859",
     "exception": false,
     "start_time": "2021-03-14T18:58:36.696929",
     "status": "completed"
    },
    "tags": []
   },
   "source": [
    "Skin segmentation dataset has 3 features (B, G, R) and one class (skin-nonskin). The dataset is extracted from images of peoples faces, so that each row presents a pixel and each pixel represents how much of that color is attained in it (i.e. B represents how much blue does a pixel have). Class tells us if the given row (pixel) is a skin or not. People represented in the images vary in age, race and gender."
   ]
  },
  {
   "cell_type": "code",
   "execution_count": 15,
   "metadata": {
    "execution": {
     "iopub.execute_input": "2021-03-14T18:58:36.813063Z",
     "iopub.status.busy": "2021-03-14T18:58:36.812370Z",
     "iopub.status.idle": "2021-03-14T18:58:37.005711Z",
     "shell.execute_reply": "2021-03-14T18:58:37.006350Z"
    },
    "papermill": {
     "duration": 0.236194,
     "end_time": "2021-03-14T18:58:37.006544",
     "exception": false,
     "start_time": "2021-03-14T18:58:36.770350",
     "status": "completed"
    },
    "tags": []
   },
   "outputs": [
    {
     "data": {
      "text/html": [
       "<div>\n",
       "<style scoped>\n",
       "    .dataframe tbody tr th:only-of-type {\n",
       "        vertical-align: middle;\n",
       "    }\n",
       "\n",
       "    .dataframe tbody tr th {\n",
       "        vertical-align: top;\n",
       "    }\n",
       "\n",
       "    .dataframe thead th {\n",
       "        text-align: right;\n",
       "    }\n",
       "</style>\n",
       "<table border=\"1\" class=\"dataframe\">\n",
       "  <thead>\n",
       "    <tr style=\"text-align: right;\">\n",
       "      <th></th>\n",
       "      <th>B</th>\n",
       "      <th>G</th>\n",
       "      <th>R</th>\n",
       "      <th>Class</th>\n",
       "    </tr>\n",
       "  </thead>\n",
       "  <tbody>\n",
       "    <tr>\n",
       "      <th>0</th>\n",
       "      <td>74</td>\n",
       "      <td>85</td>\n",
       "      <td>123</td>\n",
       "      <td>0</td>\n",
       "    </tr>\n",
       "    <tr>\n",
       "      <th>1</th>\n",
       "      <td>73</td>\n",
       "      <td>84</td>\n",
       "      <td>122</td>\n",
       "      <td>0</td>\n",
       "    </tr>\n",
       "    <tr>\n",
       "      <th>2</th>\n",
       "      <td>72</td>\n",
       "      <td>83</td>\n",
       "      <td>121</td>\n",
       "      <td>0</td>\n",
       "    </tr>\n",
       "    <tr>\n",
       "      <th>3</th>\n",
       "      <td>70</td>\n",
       "      <td>81</td>\n",
       "      <td>119</td>\n",
       "      <td>0</td>\n",
       "    </tr>\n",
       "    <tr>\n",
       "      <th>4</th>\n",
       "      <td>70</td>\n",
       "      <td>81</td>\n",
       "      <td>119</td>\n",
       "      <td>0</td>\n",
       "    </tr>\n",
       "  </tbody>\n",
       "</table>\n",
       "</div>"
      ],
      "text/plain": [
       "    B   G    R  Class\n",
       "0  74  85  123      0\n",
       "1  73  84  122      0\n",
       "2  72  83  121      0\n",
       "3  70  81  119      0\n",
       "4  70  81  119      0"
      ]
     },
     "execution_count": 15,
     "metadata": {},
     "output_type": "execute_result"
    }
   ],
   "source": [
    "df2 = pd.read_csv('../input/ucuss/Skin_NonSkin.txt', sep='\\t', header=None, names=['B','G','R','Class'])\n",
    "df2.Class = df2.Class.replace([1, 2], [0, 1])\n",
    "df2.head()"
   ]
  },
  {
   "cell_type": "code",
   "execution_count": 16,
   "metadata": {
    "execution": {
     "iopub.execute_input": "2021-03-14T18:58:37.087899Z",
     "iopub.status.busy": "2021-03-14T18:58:37.086989Z",
     "iopub.status.idle": "2021-03-14T18:58:37.096328Z",
     "shell.execute_reply": "2021-03-14T18:58:37.095768Z"
    },
    "papermill": {
     "duration": 0.052322,
     "end_time": "2021-03-14T18:58:37.096467",
     "exception": false,
     "start_time": "2021-03-14T18:58:37.044145",
     "status": "completed"
    },
    "tags": []
   },
   "outputs": [
    {
     "data": {
      "text/plain": [
       "1    194198\n",
       "0     50859\n",
       "Name: Class, dtype: int64"
      ]
     },
     "execution_count": 16,
     "metadata": {},
     "output_type": "execute_result"
    }
   ],
   "source": [
    "df2.Class.value_counts()"
   ]
  },
  {
   "cell_type": "markdown",
   "metadata": {
    "papermill": {
     "duration": 0.037376,
     "end_time": "2021-03-14T18:58:37.171276",
     "exception": false,
     "start_time": "2021-03-14T18:58:37.133900",
     "status": "completed"
    },
    "tags": []
   },
   "source": [
    "### Splitting the Dataframe"
   ]
  },
  {
   "cell_type": "code",
   "execution_count": 17,
   "metadata": {
    "execution": {
     "iopub.execute_input": "2021-03-14T18:58:37.257404Z",
     "iopub.status.busy": "2021-03-14T18:58:37.256269Z",
     "iopub.status.idle": "2021-03-14T18:58:37.297127Z",
     "shell.execute_reply": "2021-03-14T18:58:37.296449Z"
    },
    "papermill": {
     "duration": 0.088482,
     "end_time": "2021-03-14T18:58:37.297283",
     "exception": false,
     "start_time": "2021-03-14T18:58:37.208801",
     "status": "completed"
    },
    "tags": []
   },
   "outputs": [],
   "source": [
    "scaler = StandardScaler()\n",
    "\n",
    "X = scaler.fit_transform(df2.drop('Class', 1))\n",
    "y = df2['Class'].values\n",
    "\n",
    "X_train, X_test, y_train, y_test = train_test_split(X, y, test_size=0.2)"
   ]
  },
  {
   "cell_type": "markdown",
   "metadata": {
    "papermill": {
     "duration": 0.037566,
     "end_time": "2021-03-14T18:58:37.371904",
     "exception": false,
     "start_time": "2021-03-14T18:58:37.334338",
     "status": "completed"
    },
    "tags": []
   },
   "source": [
    "### Classifying using real trainset"
   ]
  },
  {
   "cell_type": "code",
   "execution_count": 18,
   "metadata": {
    "execution": {
     "iopub.execute_input": "2021-03-14T18:58:37.453890Z",
     "iopub.status.busy": "2021-03-14T18:58:37.453125Z",
     "iopub.status.idle": "2021-03-14T18:58:38.788961Z",
     "shell.execute_reply": "2021-03-14T18:58:38.789458Z"
    },
    "papermill": {
     "duration": 1.380084,
     "end_time": "2021-03-14T18:58:38.789631",
     "exception": false,
     "start_time": "2021-03-14T18:58:37.409547",
     "status": "completed"
    },
    "tags": []
   },
   "outputs": [
    {
     "name": "stdout",
     "output_type": "stream",
     "text": [
      "              precision    recall  f1-score   support\n",
      "\n",
      "           0       1.00      1.00      1.00     10159\n",
      "           1       1.00      1.00      1.00     38853\n",
      "\n",
      "    accuracy                           1.00     49012\n",
      "   macro avg       1.00      1.00      1.00     49012\n",
      "weighted avg       1.00      1.00      1.00     49012\n",
      "\n"
     ]
    },
    {
     "data": {
      "image/png": "[encoded data removed]",
      "text/plain": [
       "<Figure size 432x288 with 2 Axes>"
      ]
     },
     "metadata": {
      "needs_background": "light"
     },
     "output_type": "display_data"
    }
   ],
   "source": [
    "lgb_1 = lgb.LGBMClassifier()\n",
    "lgb_1.fit(X_train, y_train)\n",
    "\n",
    "\n",
    "y_pred = lgb_1.predict(X_test)\n",
    "\n",
    "# evaluation\n",
    "print(classification_report(y_test, y_pred))\n",
    "plot_confusion_matrix(lgb_1, X_test, y_test)\n",
    "plt.show()"
   ]
  },
  {
   "cell_type": "markdown",
   "metadata": {
    "papermill": {
     "duration": 0.038426,
     "end_time": "2021-03-14T18:58:38.865947",
     "exception": false,
     "start_time": "2021-03-14T18:58:38.827521",
     "status": "completed"
    },
    "tags": []
   },
   "source": [
    "### Training cGAN"
   ]
  },
  {
   "cell_type": "code",
   "execution_count": 19,
   "metadata": {
    "execution": {
     "iopub.execute_input": "2021-03-14T18:58:38.945457Z",
     "iopub.status.busy": "2021-03-14T18:58:38.944461Z",
     "iopub.status.idle": "2021-03-14T18:58:39.249572Z",
     "shell.execute_reply": "2021-03-14T18:58:39.248766Z"
    },
    "papermill": {
     "duration": 0.346039,
     "end_time": "2021-03-14T18:58:39.249729",
     "exception": false,
     "start_time": "2021-03-14T18:58:38.903690",
     "status": "completed"
    },
    "tags": []
   },
   "outputs": [],
   "source": [
    "cgan = cGAN(out_shape=3)"
   ]
  },
  {
   "cell_type": "code",
   "execution_count": 20,
   "metadata": {
    "execution": {
     "iopub.execute_input": "2021-03-14T18:58:39.332518Z",
     "iopub.status.busy": "2021-03-14T18:58:39.331538Z",
     "iopub.status.idle": "2021-03-14T18:58:47.929889Z",
     "shell.execute_reply": "2021-03-14T18:58:47.929329Z"
    },
    "papermill": {
     "duration": 8.64079,
     "end_time": "2021-03-14T18:58:47.930039",
     "exception": false,
     "start_time": "2021-03-14T18:58:39.289249",
     "status": "completed"
    },
    "tags": []
   },
   "outputs": [
    {
     "name": "stdout",
     "output_type": "stream",
     "text": [
      "[99/100]\tLoss_D: 0.6894\tLoss_G: 0.6928\n"
     ]
    },
    {
     "data": {
      "image/png": "[encoded data removed]",
      "text/plain": [
       "<Figure size 720x360 with 1 Axes>"
      ]
     },
     "metadata": {
      "needs_background": "light"
     },
     "output_type": "display_data"
    }
   ],
   "source": [
    "y_train = y_train.reshape(-1,1)\n",
    "pos_index = np.where(y_train==1)[0]\n",
    "neg_index = np.where(y_train==0)[0]\n",
    "cgan.train(X_train, y_train,pos_index, neg_index, epochs=100)"
   ]
  },
  {
   "cell_type": "markdown",
   "metadata": {
    "papermill": {
     "duration": 0.039839,
     "end_time": "2021-03-14T18:58:48.009835",
     "exception": false,
     "start_time": "2021-03-14T18:58:47.969996",
     "status": "completed"
    },
    "tags": []
   },
   "source": [
    "### Generating new instances"
   ]
  },
  {
   "cell_type": "code",
   "execution_count": 21,
   "metadata": {
    "execution": {
     "iopub.execute_input": "2021-03-14T18:58:48.098113Z",
     "iopub.status.busy": "2021-03-14T18:58:48.097438Z",
     "iopub.status.idle": "2021-03-14T18:58:50.522008Z",
     "shell.execute_reply": "2021-03-14T18:58:50.521430Z"
    },
    "papermill": {
     "duration": 2.472302,
     "end_time": "2021-03-14T18:58:50.522151",
     "exception": false,
     "start_time": "2021-03-14T18:58:48.049849",
     "status": "completed"
    },
    "tags": []
   },
   "outputs": [
    {
     "data": {
      "text/html": [
       "<div>\n",
       "<style scoped>\n",
       "    .dataframe tbody tr th:only-of-type {\n",
       "        vertical-align: middle;\n",
       "    }\n",
       "\n",
       "    .dataframe tbody tr th {\n",
       "        vertical-align: top;\n",
       "    }\n",
       "\n",
       "    .dataframe thead th {\n",
       "        text-align: right;\n",
       "    }\n",
       "</style>\n",
       "<table border=\"1\" class=\"dataframe\">\n",
       "  <thead>\n",
       "    <tr style=\"text-align: right;\">\n",
       "      <th></th>\n",
       "      <th>B</th>\n",
       "      <th>G</th>\n",
       "      <th>R</th>\n",
       "    </tr>\n",
       "  </thead>\n",
       "  <tbody>\n",
       "    <tr>\n",
       "      <th>0</th>\n",
       "      <td>0.882154</td>\n",
       "      <td>-0.666110</td>\n",
       "      <td>0.999997</td>\n",
       "    </tr>\n",
       "    <tr>\n",
       "      <th>1</th>\n",
       "      <td>-0.969396</td>\n",
       "      <td>-0.766087</td>\n",
       "      <td>0.999812</td>\n",
       "    </tr>\n",
       "    <tr>\n",
       "      <th>2</th>\n",
       "      <td>0.763742</td>\n",
       "      <td>0.589939</td>\n",
       "      <td>0.999967</td>\n",
       "    </tr>\n",
       "    <tr>\n",
       "      <th>3</th>\n",
       "      <td>-0.366930</td>\n",
       "      <td>-0.690233</td>\n",
       "      <td>0.999951</td>\n",
       "    </tr>\n",
       "    <tr>\n",
       "      <th>4</th>\n",
       "      <td>-0.025381</td>\n",
       "      <td>-0.519304</td>\n",
       "      <td>0.999886</td>\n",
       "    </tr>\n",
       "  </tbody>\n",
       "</table>\n",
       "</div>"
      ],
      "text/plain": [
       "          B         G         R\n",
       "0  0.882154 -0.666110  0.999997\n",
       "1 -0.969396 -0.766087  0.999812\n",
       "2  0.763742  0.589939  0.999967\n",
       "3 -0.366930 -0.690233  0.999951\n",
       "4 -0.025381 -0.519304  0.999886"
      ]
     },
     "execution_count": 21,
     "metadata": {},
     "output_type": "execute_result"
    }
   ],
   "source": [
    "# we want to generate 40572 instances with class value 0 since that represents how many 0s are in the label of the real training set\n",
    "noise = np.random.normal(0, 1, (40572, 32))\n",
    "sampled_labels = np.zeros(40572).reshape(-1, 1)\n",
    "\n",
    "\n",
    "gen_samples = cgan.generator.predict([noise, sampled_labels])\n",
    "\n",
    "gen_df = pd.DataFrame(data = gen_samples,\n",
    "                      columns = df2.drop('Class',1).columns)\n",
    "gen_df.head()"
   ]
  },
  {
   "cell_type": "code",
   "execution_count": 22,
   "metadata": {
    "execution": {
     "iopub.execute_input": "2021-03-14T18:58:50.610981Z",
     "iopub.status.busy": "2021-03-14T18:58:50.610328Z",
     "iopub.status.idle": "2021-03-14T18:58:59.503635Z",
     "shell.execute_reply": "2021-03-14T18:58:59.503127Z"
    },
    "papermill": {
     "duration": 8.940575,
     "end_time": "2021-03-14T18:58:59.503779",
     "exception": false,
     "start_time": "2021-03-14T18:58:50.563204",
     "status": "completed"
    },
    "tags": []
   },
   "outputs": [
    {
     "data": {
      "text/html": [
       "<div>\n",
       "<style scoped>\n",
       "    .dataframe tbody tr th:only-of-type {\n",
       "        vertical-align: middle;\n",
       "    }\n",
       "\n",
       "    .dataframe tbody tr th {\n",
       "        vertical-align: top;\n",
       "    }\n",
       "\n",
       "    .dataframe thead th {\n",
       "        text-align: right;\n",
       "    }\n",
       "</style>\n",
       "<table border=\"1\" class=\"dataframe\">\n",
       "  <thead>\n",
       "    <tr style=\"text-align: right;\">\n",
       "      <th></th>\n",
       "      <th>B</th>\n",
       "      <th>G</th>\n",
       "      <th>R</th>\n",
       "    </tr>\n",
       "  </thead>\n",
       "  <tbody>\n",
       "    <tr>\n",
       "      <th>0</th>\n",
       "      <td>0.940194</td>\n",
       "      <td>-0.268367</td>\n",
       "      <td>-0.999996</td>\n",
       "    </tr>\n",
       "    <tr>\n",
       "      <th>1</th>\n",
       "      <td>-1.000000</td>\n",
       "      <td>-1.000000</td>\n",
       "      <td>-1.000000</td>\n",
       "    </tr>\n",
       "    <tr>\n",
       "      <th>2</th>\n",
       "      <td>0.991539</td>\n",
       "      <td>0.884005</td>\n",
       "      <td>-0.466823</td>\n",
       "    </tr>\n",
       "    <tr>\n",
       "      <th>3</th>\n",
       "      <td>-1.000000</td>\n",
       "      <td>-1.000000</td>\n",
       "      <td>-0.999969</td>\n",
       "    </tr>\n",
       "    <tr>\n",
       "      <th>4</th>\n",
       "      <td>-0.946706</td>\n",
       "      <td>-0.730447</td>\n",
       "      <td>-1.000000</td>\n",
       "    </tr>\n",
       "  </tbody>\n",
       "</table>\n",
       "</div>"
      ],
      "text/plain": [
       "          B         G         R\n",
       "0  0.940194 -0.268367 -0.999996\n",
       "1 -1.000000 -1.000000 -1.000000\n",
       "2  0.991539  0.884005 -0.466823\n",
       "3 -1.000000 -1.000000 -0.999969\n",
       "4 -0.946706 -0.730447 -1.000000"
      ]
     },
     "execution_count": 22,
     "metadata": {},
     "output_type": "execute_result"
    }
   ],
   "source": [
    "# we want to generate 155473 instances with class value 1 since that represents how many 1s are in the real training set\n",
    "noise_2 = np.random.normal(0, 1, (155473, 32))\n",
    "sampled_labels_2 = np.ones(155473).reshape(-1, 1)\n",
    "\n",
    "\n",
    "gen_samples_2 = cgan.generator.predict([noise_2, sampled_labels_2])\n",
    "\n",
    "gen_df_2 = pd.DataFrame(data = gen_samples_2,\n",
    "                      columns = df2.drop('Class',1).columns)\n",
    "gen_df_2.head()"
   ]
  },
  {
   "cell_type": "markdown",
   "metadata": {
    "papermill": {
     "duration": 0.041042,
     "end_time": "2021-03-14T18:58:59.586045",
     "exception": false,
     "start_time": "2021-03-14T18:58:59.545003",
     "status": "completed"
    },
    "tags": []
   },
   "source": [
    "### Combining generated instances into a dataframe"
   ]
  },
  {
   "cell_type": "code",
   "execution_count": 23,
   "metadata": {
    "execution": {
     "iopub.execute_input": "2021-03-14T18:58:59.681428Z",
     "iopub.status.busy": "2021-03-14T18:58:59.680731Z",
     "iopub.status.idle": "2021-03-14T18:58:59.703132Z",
     "shell.execute_reply": "2021-03-14T18:58:59.702419Z"
    },
    "papermill": {
     "duration": 0.072021,
     "end_time": "2021-03-14T18:58:59.703279",
     "exception": false,
     "start_time": "2021-03-14T18:58:59.631258",
     "status": "completed"
    },
    "tags": []
   },
   "outputs": [],
   "source": [
    "gen_df_2['Class'] = 1\n",
    "gen_df['Class']=0\n",
    "\n",
    "df_gan = pd.concat([gen_df_2, gen_df], ignore_index=True, sort=False)\n",
    "df_gan = df_gan.sample(frac=1).reset_index(drop=True)\n",
    "\n",
    "X_train_2 = df_gan.drop('Class', 1)\n",
    "y_train_2 = df_gan['Class'].values"
   ]
  },
  {
   "cell_type": "markdown",
   "metadata": {
    "papermill": {
     "duration": 0.04145,
     "end_time": "2021-03-14T18:58:59.786506",
     "exception": false,
     "start_time": "2021-03-14T18:58:59.745056",
     "status": "completed"
    },
    "tags": []
   },
   "source": [
    "### Classifying testset using generated trainset"
   ]
  },
  {
   "cell_type": "code",
   "execution_count": 24,
   "metadata": {
    "execution": {
     "iopub.execute_input": "2021-03-14T18:58:59.876436Z",
     "iopub.status.busy": "2021-03-14T18:58:59.875620Z",
     "iopub.status.idle": "2021-03-14T18:59:01.033724Z",
     "shell.execute_reply": "2021-03-14T18:59:01.033224Z"
    },
    "papermill": {
     "duration": 1.205708,
     "end_time": "2021-03-14T18:59:01.033889",
     "exception": false,
     "start_time": "2021-03-14T18:58:59.828181",
     "status": "completed"
    },
    "tags": []
   },
   "outputs": [
    {
     "name": "stdout",
     "output_type": "stream",
     "text": [
      "              precision    recall  f1-score   support\n",
      "\n",
      "           0       0.70      0.82      0.76     10159\n",
      "           1       0.95      0.91      0.93     38853\n",
      "\n",
      "    accuracy                           0.89     49012\n",
      "   macro avg       0.83      0.87      0.84     49012\n",
      "weighted avg       0.90      0.89      0.89     49012\n",
      "\n"
     ]
    },
    {
     "data": {
      "image/png": "[encoded data removed]",
      "text/plain": [
       "<Figure size 432x288 with 2 Axes>"
      ]
     },
     "metadata": {
      "needs_background": "light"
     },
     "output_type": "display_data"
    }
   ],
   "source": [
    "lgb_1 = lgb.LGBMClassifier()\n",
    "lgb_1.fit(X_train_2, y_train_2)\n",
    "\n",
    "\n",
    "y_pred = lgb_1.predict(X_test)\n",
    "\n",
    "print(classification_report(y_test, y_pred))\n",
    "plot_confusion_matrix(lgb_1, X_test, y_test)\n",
    "plt.show()"
   ]
  },
  {
   "cell_type": "markdown",
   "metadata": {
    "papermill": {
     "duration": 0.043648,
     "end_time": "2021-03-14T18:59:01.120613",
     "exception": false,
     "start_time": "2021-03-14T18:59:01.076965",
     "status": "completed"
    },
    "tags": []
   },
   "source": [
    "## EXPERIMENTS"
   ]
  },
  {
   "cell_type": "code",
   "execution_count": 25,
   "metadata": {
    "execution": {
     "iopub.execute_input": "2021-03-14T18:59:01.213481Z",
     "iopub.status.busy": "2021-03-14T18:59:01.212843Z",
     "iopub.status.idle": "2021-03-14T18:59:01.217668Z",
     "shell.execute_reply": "2021-03-14T18:59:01.217063Z"
    },
    "papermill": {
     "duration": 0.054772,
     "end_time": "2021-03-14T18:59:01.217845",
     "exception": false,
     "start_time": "2021-03-14T18:59:01.163073",
     "status": "completed"
    },
    "tags": []
   },
   "outputs": [],
   "source": [
    "def generate_instances(df_new, cgan,num_instances,label_class,label='income'):\n",
    "    noise = np.random.normal(0, 1, (num_instances, 32))\n",
    "    \n",
    "    if label_class==0:\n",
    "        sampled_labels = np.zeros(num_instances).reshape(-1, 1)\n",
    "        gen_samples = cgan.generator.predict([noise, sampled_labels])\n",
    "    else:\n",
    "        sampled_labels = np.zeros(num_instances).reshape(-1, 1)\n",
    "        gen_samples = cgan.generator.predict([noise, sampled_labels])\n",
    "        \n",
    "    gen_df = pd.DataFrame(data = gen_samples,\n",
    "                          columns = df_new.drop(label,1).columns)\n",
    "    return gen_df\n"
   ]
  },
  {
   "cell_type": "code",
   "execution_count": 26,
   "metadata": {
    "execution": {
     "iopub.execute_input": "2021-03-14T18:59:01.321590Z",
     "iopub.status.busy": "2021-03-14T18:59:01.320912Z",
     "iopub.status.idle": "2021-03-14T18:59:01.324012Z",
     "shell.execute_reply": "2021-03-14T18:59:01.324468Z"
    },
    "papermill": {
     "duration": 0.063673,
     "end_time": "2021-03-14T18:59:01.324646",
     "exception": false,
     "start_time": "2021-03-14T18:59:01.260973",
     "status": "completed"
    },
    "tags": []
   },
   "outputs": [],
   "source": [
    "def run_experiment(df_new, pos_num_inst, neg_num_inst, num_epochs, out_sh, latent_d=32, label_f='income'):\n",
    "    \n",
    "    global bal_acc, acc, G_loss, D_loss\n",
    "    G_loss = []\n",
    "    D_loss = []\n",
    "    bal_acc = []\n",
    "    acc = []\n",
    "    \n",
    "    X = scaler.fit_transform(df_new.drop(label_f, 1))\n",
    "    y = df_new[label_f].values\n",
    "    X_train, X_test, y_train, y_test = train_test_split(X, y, test_size=0.2)\n",
    "\n",
    "    cgan=cGAN(latent_dim=latent_d, out_shape=out_sh)\n",
    "    y_train = y_train.reshape(-1,1)\n",
    "    pos_index = np.where(y_train==1)[0]\n",
    "    neg_index = np.where(y_train==0)[0]\n",
    "    \n",
    "    for i in range(5):\n",
    "        print(str(i+1)+\". RUN\")\n",
    "        \n",
    "        cgan.train(X_train, y_train, pos_index, neg_index, epochs=num_epochs, plot=False)\n",
    "        gen_df = generate_instances(df_new, cgan=cgan,num_instances=pos_num_inst, label_class=1, label=label_f)\n",
    "        gen_df_2 = generate_instances(df_new,cgan=cgan, num_instances=neg_num_inst, label_class=0, label=label_f)\n",
    "        \n",
    "        gen_df[label_f] = 1\n",
    "        gen_df_2[label_f] = 0\n",
    "\n",
    "        df_gan = pd.concat([gen_df_2, gen_df], ignore_index=True, sort=False)\n",
    "        df_gan = df_gan.sample(frac=1).reset_index(drop=True)\n",
    "\n",
    "        X_train_2 = df_gan.drop(label_f, 1)\n",
    "        y_train_2 = df_gan[label_f].values\n",
    "        \n",
    "        lgb_1 = lgb.LGBMClassifier()\n",
    "        lgb_1.fit(X_train_2, y_train_2)\n",
    "        \n",
    "        y_pred = lgb_1.predict(X_test)\n",
    "        \n",
    "        G_loss.append(G_losses)\n",
    "        D_loss.append(D_losses)\n",
    "        \n",
    "        bal_acc.append(balanced_accuracy_score(y_test, y_pred))\n",
    "        acc.append(accuracy_score(y_test, y_pred))\n",
    "        \n",
    "        print(\"Bal_Acc:\", bal_acc[i])\n",
    "        print(\"Acc:\", acc[i])\n",
    "       \n",
    "    Sum_G_loss = [sum(x) for x in zip(*G_loss)]\n",
    "    Sum_D_loss = [sum(x) for x in zip(*D_loss)]\n",
    "    Avg_G_loss = [x / 5 for x in Sum_G_loss]\n",
    "    Avg_D_loss = [x / 5 for x in Sum_D_loss]\n",
    "    \n",
    "    plt.figure(figsize=(10,5))\n",
    "    plt.title(\"Average Generator and Discriminator Loss\")\n",
    "    plt.plot(Avg_G_loss,label=\"G\")\n",
    "    plt.plot(Avg_D_loss,label=\"D\")\n",
    "    plt.xlabel(\"iterations\")\n",
    "    plt.ylabel(\"Loss\")\n",
    "    plt.legend()\n",
    "    plt.show()"
   ]
  },
  {
   "cell_type": "code",
   "execution_count": 27,
   "metadata": {
    "execution": {
     "iopub.execute_input": "2021-03-14T18:59:01.413793Z",
     "iopub.status.busy": "2021-03-14T18:59:01.413133Z",
     "iopub.status.idle": "2021-03-14T19:10:43.005116Z",
     "shell.execute_reply": "2021-03-14T19:10:43.005656Z"
    },
    "papermill": {
     "duration": 701.638096,
     "end_time": "2021-03-14T19:10:43.005854",
     "exception": false,
     "start_time": "2021-03-14T18:59:01.367758",
     "status": "completed"
    },
    "tags": []
   },
   "outputs": [
    {
     "name": "stdout",
     "output_type": "stream",
     "text": [
      "1. RUN\n",
      "[99/2000]\tLoss_D: 0.6939\tLoss_G: 0.6688\n",
      "[199/2000]\tLoss_D: 0.6835\tLoss_G: 0.7381\n",
      "[299/2000]\tLoss_D: 0.0652\tLoss_G: 3.1275\n",
      "[399/2000]\tLoss_D: -0.1123\tLoss_G: 8.9667\n",
      "[499/2000]\tLoss_D: -0.5655\tLoss_G: 16.7729\n",
      "[599/2000]\tLoss_D: -1.0054\tLoss_G: 29.9625\n",
      "[699/2000]\tLoss_D: -1.3712\tLoss_G: 47.1288\n",
      "[799/2000]\tLoss_D: -1.7645\tLoss_G: 69.8977\n",
      "[899/2000]\tLoss_D: -3.9128\tLoss_G: 91.8820\n",
      "[999/2000]\tLoss_D: -6.1514\tLoss_G: 138.6288\n",
      "[1099/2000]\tLoss_D: -15.9926\tLoss_G: 168.4970\n",
      "[1199/2000]\tLoss_D: -10.8175\tLoss_G: 126.0121\n",
      "[1299/2000]\tLoss_D: -27.0119\tLoss_G: 185.8862\n",
      "[1399/2000]\tLoss_D: 1.1891\tLoss_G: 200.2897\n",
      "[1499/2000]\tLoss_D: 10.6957\tLoss_G: 193.8070\n",
      "[1599/2000]\tLoss_D: 0.1213\tLoss_G: 175.5405\n",
      "[1699/2000]\tLoss_D: 0.0038\tLoss_G: 196.0031\n",
      "[1799/2000]\tLoss_D: 0.1031\tLoss_G: 144.6655\n",
      "[1899/2000]\tLoss_D: 0.0872\tLoss_G: 145.8593\n",
      "[1999/2000]\tLoss_D: 0.0381\tLoss_G: 108.4187\n",
      "Bal_Acc: 0.5017306014665315\n",
      "Acc: 0.764163979732842\n",
      "2. RUN\n",
      "[99/2000]\tLoss_D: -55.8872\tLoss_G: 92.5559\n",
      "[199/2000]\tLoss_D: -53.4485\tLoss_G: 179.8211\n",
      "[299/2000]\tLoss_D: -35.5333\tLoss_G: 149.8409\n",
      "[399/2000]\tLoss_D: -131.5080\tLoss_G: 210.3710\n",
      "[499/2000]\tLoss_D: -103.8393\tLoss_G: 183.5182\n",
      "[599/2000]\tLoss_D: -26.1818\tLoss_G: 156.3921\n",
      "[699/2000]\tLoss_D: -75.9872\tLoss_G: 266.0217\n",
      "[799/2000]\tLoss_D: 65.2767\tLoss_G: 350.4660\n",
      "[899/2000]\tLoss_D: -117.5960\tLoss_G: 582.2596\n",
      "[999/2000]\tLoss_D: -70.8807\tLoss_G: 311.5015\n",
      "[1099/2000]\tLoss_D: -373.1972\tLoss_G: 313.0702\n",
      "[1199/2000]\tLoss_D: -55.0188\tLoss_G: 329.9180\n",
      "[1299/2000]\tLoss_D: -870.5880\tLoss_G: 297.0545\n",
      "[1399/2000]\tLoss_D: 8.0617\tLoss_G: 592.9970\n",
      "[1499/2000]\tLoss_D: 6.6996\tLoss_G: 180.1450\n",
      "[1599/2000]\tLoss_D: 1.4740\tLoss_G: 119.4959\n",
      "[1699/2000]\tLoss_D: 1.1916\tLoss_G: 137.3478\n",
      "[1799/2000]\tLoss_D: 1.5479\tLoss_G: 134.1229\n",
      "[1899/2000]\tLoss_D: 0.5687\tLoss_G: 96.2900\n",
      "[1999/2000]\tLoss_D: 0.7707\tLoss_G: 126.9712\n",
      "Bal_Acc: 0.47926205801680305\n",
      "Acc: 0.721173038538308\n",
      "3. RUN\n",
      "[99/2000]\tLoss_D: -27.3476\tLoss_G: 222.8975\n",
      "[199/2000]\tLoss_D: -213.9153\tLoss_G: 157.6539\n",
      "[299/2000]\tLoss_D: -292.3112\tLoss_G: 236.7133\n",
      "[399/2000]\tLoss_D: -1488.6494\tLoss_G: 444.1940\n",
      "[499/2000]\tLoss_D: -210.6656\tLoss_G: 167.6402\n",
      "[599/2000]\tLoss_D: -601.2770\tLoss_G: 103.8512\n",
      "[699/2000]\tLoss_D: -130.0540\tLoss_G: 73.4147\n",
      "[799/2000]\tLoss_D: -2420.3826\tLoss_G: 306.1372\n",
      "[899/2000]\tLoss_D: -373.9072\tLoss_G: 449.2578\n",
      "[999/2000]\tLoss_D: -955.7215\tLoss_G: 200.5935\n",
      "[1099/2000]\tLoss_D: 330.0451\tLoss_G: 846.5045\n",
      "[1199/2000]\tLoss_D: -340.8465\tLoss_G: 2181.6628\n",
      "[1299/2000]\tLoss_D: -2642.5561\tLoss_G: 2083.2659\n",
      "[1399/2000]\tLoss_D: 32.4845\tLoss_G: 1451.0867\n",
      "[1499/2000]\tLoss_D: 33.9335\tLoss_G: 317.5645\n",
      "[1599/2000]\tLoss_D: 10.1790\tLoss_G: 244.0965\n",
      "[1699/2000]\tLoss_D: 17.4186\tLoss_G: 218.6379\n",
      "[1799/2000]\tLoss_D: 9.6462\tLoss_G: 151.7982\n",
      "[1899/2000]\tLoss_D: 22.6627\tLoss_G: 238.7876\n",
      "[1999/2000]\tLoss_D: 14.7088\tLoss_G: 222.9818\n",
      "Bal_Acc: 0.44229226102059904\n",
      "Acc: 0.6718869952402886\n",
      "4. RUN\n",
      "[99/2000]\tLoss_D: -516.5793\tLoss_G: 164.2456\n",
      "[199/2000]\tLoss_D: -1290.2206\tLoss_G: 147.5318\n",
      "[299/2000]\tLoss_D: -2728.4845\tLoss_G: 315.0616\n",
      "[399/2000]\tLoss_D: 3051.5891\tLoss_G: 300.7894\n",
      "[499/2000]\tLoss_D: -54.2285\tLoss_G: 2701.1021\n",
      "[599/2000]\tLoss_D: -1007.0936\tLoss_G: 971.0719\n",
      "[699/2000]\tLoss_D: -7166.4649\tLoss_G: 344.9660\n",
      "[799/2000]\tLoss_D: -216.7189\tLoss_G: 709.6305\n",
      "[899/2000]\tLoss_D: -9157.9523\tLoss_G: 455.4868\n",
      "[999/2000]\tLoss_D: -299.9284\tLoss_G: 1761.2003\n",
      "[1099/2000]\tLoss_D: -11372.8381\tLoss_G: 1569.1006\n",
      "[1199/2000]\tLoss_D: 2631.9163\tLoss_G: 2872.5435\n",
      "[1299/2000]\tLoss_D: -122.9679\tLoss_G: 966.6250\n",
      "[1399/2000]\tLoss_D: 67.0430\tLoss_G: 862.1089\n",
      "[1499/2000]\tLoss_D: 38.4034\tLoss_G: 503.8622\n",
      "[1599/2000]\tLoss_D: 51.8316\tLoss_G: 358.9425\n",
      "[1699/2000]\tLoss_D: 46.3771\tLoss_G: 949.6678\n",
      "[1799/2000]\tLoss_D: 36.7999\tLoss_G: 265.5568\n",
      "[1899/2000]\tLoss_D: 28.6950\tLoss_G: 270.9426\n",
      "[1999/2000]\tLoss_D: 50.6563\tLoss_G: 248.2390\n",
      "Bal_Acc: 0.5486617703691479\n",
      "Acc: 0.7617073545217258\n",
      "5. RUN\n",
      "[99/2000]\tLoss_D: -1248.6940\tLoss_G: 606.5161\n",
      "[199/2000]\tLoss_D: -1535.7845\tLoss_G: 962.6790\n",
      "[299/2000]\tLoss_D: -1176.1704\tLoss_G: 896.0852\n",
      "[399/2000]\tLoss_D: -18314.4802\tLoss_G: 1398.3730\n",
      "[499/2000]\tLoss_D: 62.3447\tLoss_G: 2043.4446\n",
      "[599/2000]\tLoss_D: -110.1368\tLoss_G: 6072.7144\n",
      "[699/2000]\tLoss_D: 3270.5640\tLoss_G: 594.3036\n",
      "[799/2000]\tLoss_D: 292.4880\tLoss_G: 1873.5586\n",
      "[899/2000]\tLoss_D: 1484.8074\tLoss_G: 531.7106\n",
      "[999/2000]\tLoss_D: 27851.7314\tLoss_G: 1391.0697\n",
      "[1099/2000]\tLoss_D: -513.2105\tLoss_G: 1541.5198\n",
      "[1199/2000]\tLoss_D: -8259.5088\tLoss_G: 1548.7817\n",
      "[1299/2000]\tLoss_D: -473.3923\tLoss_G: 1847.8724\n",
      "[1399/2000]\tLoss_D: 169.8566\tLoss_G: 2470.6765\n",
      "[1499/2000]\tLoss_D: 194.9522\tLoss_G: 1781.0951\n",
      "[1599/2000]\tLoss_D: 187.1026\tLoss_G: 1181.6340\n",
      "[1699/2000]\tLoss_D: 119.7508\tLoss_G: 1055.3250\n",
      "[1799/2000]\tLoss_D: 68.3551\tLoss_G: 1266.8669\n",
      "[1899/2000]\tLoss_D: 95.2262\tLoss_G: 1209.0231\n",
      "[1999/2000]\tLoss_D: 111.8998\tLoss_G: 577.2584\n",
      "Bal_Acc: 0.4956322353995237\n",
      "Acc: 0.7572547213265776\n"
     ]
    },
    {
     "data": {
      "image/png": "[encoded data removed]",
      "text/plain": [
       "<Figure size 720x360 with 1 Axes>"
      ]
     },
     "metadata": {
      "needs_background": "light"
     },
     "output_type": "display_data"
    },
    {
     "name": "stdout",
     "output_type": "stream",
     "text": [
      "CPU times: user 13min 44s, sys: 54.9 s, total: 14min 39s\n",
      "Wall time: 11min 41s\n"
     ]
    }
   ],
   "source": [
    "%%time\n",
    "run_experiment(df_new=df, pos_num_inst=6290, neg_num_inst=19758, num_epochs=2000, out_sh=14)"
   ]
  },
  {
   "cell_type": "code",
   "execution_count": 28,
   "metadata": {
    "execution": {
     "iopub.execute_input": "2021-03-14T19:10:43.170859Z",
     "iopub.status.busy": "2021-03-14T19:10:43.170156Z",
     "iopub.status.idle": "2021-03-14T19:23:14.015524Z",
     "shell.execute_reply": "2021-03-14T19:23:14.014135Z"
    },
    "papermill": {
     "duration": 750.932917,
     "end_time": "2021-03-14T19:23:14.015685",
     "exception": false,
     "start_time": "2021-03-14T19:10:43.082768",
     "status": "completed"
    },
    "tags": []
   },
   "outputs": [
    {
     "name": "stdout",
     "output_type": "stream",
     "text": [
      "1. RUN\n",
      "[99/2000]\tLoss_D: 0.6810\tLoss_G: 0.6968\n",
      "[199/2000]\tLoss_D: 0.5385\tLoss_G: 0.7607\n",
      "[299/2000]\tLoss_D: 0.6256\tLoss_G: 0.9017\n",
      "[399/2000]\tLoss_D: 0.4338\tLoss_G: 0.9667\n",
      "[499/2000]\tLoss_D: 0.5547\tLoss_G: 1.1081\n",
      "[599/2000]\tLoss_D: 0.3890\tLoss_G: 1.1673\n",
      "[699/2000]\tLoss_D: 0.3667\tLoss_G: 0.9513\n",
      "[799/2000]\tLoss_D: -0.9167\tLoss_G: 1.6648\n",
      "[899/2000]\tLoss_D: -0.4546\tLoss_G: 1.6291\n",
      "[999/2000]\tLoss_D: -3.1474\tLoss_G: 1.4564\n",
      "[1099/2000]\tLoss_D: -7.2732\tLoss_G: 2.8160\n",
      "[1199/2000]\tLoss_D: -5.2339\tLoss_G: 1.7202\n",
      "[1299/2000]\tLoss_D: -1.1398\tLoss_G: 3.2881\n",
      "[1399/2000]\tLoss_D: 0.7417\tLoss_G: 1.9758\n",
      "[1499/2000]\tLoss_D: 0.9862\tLoss_G: 2.2168\n",
      "[1599/2000]\tLoss_D: 1.0215\tLoss_G: 2.4925\n",
      "[1699/2000]\tLoss_D: 0.5577\tLoss_G: 2.6706\n",
      "[1799/2000]\tLoss_D: 0.5733\tLoss_G: 2.9378\n",
      "[1899/2000]\tLoss_D: 0.6743\tLoss_G: 2.7238\n",
      "[1999/2000]\tLoss_D: 0.4983\tLoss_G: 2.5313\n",
      "Bal_Acc: 0.4964663029370069\n",
      "Acc: 0.7866644903288991\n",
      "2. RUN\n",
      "[99/2000]\tLoss_D: -20.8813\tLoss_G: 3.7900\n",
      "[199/2000]\tLoss_D: -10.6998\tLoss_G: 6.1152\n",
      "[299/2000]\tLoss_D: -6.8323\tLoss_G: 4.8777\n",
      "[399/2000]\tLoss_D: -43.6301\tLoss_G: 4.1811\n",
      "[499/2000]\tLoss_D: -28.2738\tLoss_G: 5.1160\n",
      "[599/2000]\tLoss_D: -29.9021\tLoss_G: 5.7280\n",
      "[699/2000]\tLoss_D: -36.5652\tLoss_G: 8.9144\n",
      "[799/2000]\tLoss_D: -61.2530\tLoss_G: 17.4385\n",
      "[899/2000]\tLoss_D: -195.4734\tLoss_G: 11.4885\n",
      "[999/2000]\tLoss_D: -172.1967\tLoss_G: 18.4029\n",
      "[1099/2000]\tLoss_D: -161.1415\tLoss_G: 16.7010\n",
      "[1199/2000]\tLoss_D: -381.3661\tLoss_G: 34.2489\n",
      "[1299/2000]\tLoss_D: -667.4650\tLoss_G: 21.8960\n",
      "[1399/2000]\tLoss_D: 51.0883\tLoss_G: 80.1019\n",
      "[1499/2000]\tLoss_D: 10.4216\tLoss_G: 27.6123\n",
      "[1599/2000]\tLoss_D: 13.4784\tLoss_G: 20.4898\n",
      "[1699/2000]\tLoss_D: 8.4392\tLoss_G: 10.3085\n",
      "[1799/2000]\tLoss_D: 8.3012\tLoss_G: 17.9877\n",
      "[1899/2000]\tLoss_D: 6.3678\tLoss_G: 15.7021\n",
      "[1999/2000]\tLoss_D: 10.7601\tLoss_G: 23.0863\n",
      "Bal_Acc: 0.5\n",
      "Acc: 0.793254713131478\n",
      "3. RUN\n",
      "[99/2000]\tLoss_D: -495.1213\tLoss_G: 29.5942\n",
      "[199/2000]\tLoss_D: -580.1149\tLoss_G: 62.2197\n",
      "[299/2000]\tLoss_D: -878.4488\tLoss_G: 64.9932\n",
      "[399/2000]\tLoss_D: -1510.7544\tLoss_G: 42.3245\n",
      "[499/2000]\tLoss_D: -1397.2693\tLoss_G: 65.9677\n",
      "[599/2000]\tLoss_D: -1439.2606\tLoss_G: 65.4375\n",
      "[699/2000]\tLoss_D: -1111.1172\tLoss_G: 160.3879\n",
      "[799/2000]\tLoss_D: -1275.6330\tLoss_G: 115.3979\n",
      "[899/2000]\tLoss_D: 1578.4146\tLoss_G: 124.8699\n",
      "[999/2000]\tLoss_D: 32.3406\tLoss_G: 347.0778\n",
      "[1099/2000]\tLoss_D: -598.5952\tLoss_G: 198.1647\n",
      "[1199/2000]\tLoss_D: -748.2521\tLoss_G: 170.0491\n",
      "[1299/2000]\tLoss_D: -678.5252\tLoss_G: 197.9742\n",
      "[1399/2000]\tLoss_D: 38.3076\tLoss_G: 124.4906\n",
      "[1499/2000]\tLoss_D: 49.0050\tLoss_G: 100.4697\n",
      "[1599/2000]\tLoss_D: 28.9882\tLoss_G: 113.4356\n",
      "[1699/2000]\tLoss_D: 36.2525\tLoss_G: 73.3899\n",
      "[1799/2000]\tLoss_D: 30.0496\tLoss_G: 82.1876\n",
      "[1899/2000]\tLoss_D: 34.1584\tLoss_G: 101.4434\n",
      "[1999/2000]\tLoss_D: 23.1551\tLoss_G: 115.6042\n",
      "Bal_Acc: 0.5\n",
      "Acc: 0.793254713131478\n",
      "4. RUN\n",
      "[99/2000]\tLoss_D: -331.7619\tLoss_G: 113.6472\n",
      "[199/2000]\tLoss_D: -360.2642\tLoss_G: 103.0321\n",
      "[299/2000]\tLoss_D: -200.6042\tLoss_G: 100.2288\n",
      "[399/2000]\tLoss_D: -383.7615\tLoss_G: 145.0375\n",
      "[499/2000]\tLoss_D: -396.5601\tLoss_G: 131.5273\n",
      "[599/2000]\tLoss_D: -1278.3588\tLoss_G: 94.5554\n",
      "[699/2000]\tLoss_D: -1182.3877\tLoss_G: 91.7846\n",
      "[799/2000]\tLoss_D: -957.5583\tLoss_G: 115.2165\n",
      "[899/2000]\tLoss_D: -111.5654\tLoss_G: 95.2977\n",
      "[999/2000]\tLoss_D: -427.1568\tLoss_G: 126.6006\n",
      "[1099/2000]\tLoss_D: -1297.0087\tLoss_G: 138.4309\n",
      "[1199/2000]\tLoss_D: -2104.0286\tLoss_G: 122.6230\n",
      "[1299/2000]\tLoss_D: -735.9257\tLoss_G: 121.6523\n",
      "[1399/2000]\tLoss_D: 50.7020\tLoss_G: 96.6234\n",
      "[1499/2000]\tLoss_D: 45.2825\tLoss_G: 153.9009\n",
      "[1599/2000]\tLoss_D: 26.9978\tLoss_G: 103.7254\n",
      "[1699/2000]\tLoss_D: 52.7084\tLoss_G: 102.8684\n",
      "[1799/2000]\tLoss_D: 21.9792\tLoss_G: 128.0491\n",
      "[1899/2000]\tLoss_D: 38.2121\tLoss_G: 106.5009\n",
      "[1999/2000]\tLoss_D: 29.6705\tLoss_G: 128.0393\n",
      "Bal_Acc: 0.5\n",
      "Acc: 0.793254713131478\n",
      "5. RUN\n",
      "[99/2000]\tLoss_D: -2298.8882\tLoss_G: 132.7666\n",
      "[199/2000]\tLoss_D: -5133.5794\tLoss_G: 84.6492\n",
      "[299/2000]\tLoss_D: -3465.5051\tLoss_G: 79.5841\n",
      "[399/2000]\tLoss_D: -10309.7673\tLoss_G: 124.7569\n",
      "[499/2000]\tLoss_D: -2748.0358\tLoss_G: 91.7310\n",
      "[599/2000]\tLoss_D: -3557.4779\tLoss_G: 137.4966\n",
      "[699/2000]\tLoss_D: -7551.1450\tLoss_G: 168.8850\n",
      "[799/2000]\tLoss_D: 62257.4189\tLoss_G: 980.0510\n",
      "[899/2000]\tLoss_D: 736.1677\tLoss_G: 1293.2111\n",
      "[999/2000]\tLoss_D: -906.3290\tLoss_G: 1018.7511\n",
      "[1099/2000]\tLoss_D: 64.0968\tLoss_G: 795.3978\n",
      "[1199/2000]\tLoss_D: 35.1512\tLoss_G: 438.1042\n",
      "[1299/2000]\tLoss_D: -1912.3315\tLoss_G: 428.6047\n",
      "[1399/2000]\tLoss_D: 574.8365\tLoss_G: 726.0187\n",
      "[1499/2000]\tLoss_D: 367.3727\tLoss_G: 380.5359\n",
      "[1599/2000]\tLoss_D: 183.3521\tLoss_G: 345.6146\n",
      "[1699/2000]\tLoss_D: 112.7105\tLoss_G: 330.1404\n",
      "[1799/2000]\tLoss_D: 90.8909\tLoss_G: 427.8088\n",
      "[1899/2000]\tLoss_D: 98.4052\tLoss_G: 357.5899\n",
      "[1999/2000]\tLoss_D: 110.9639\tLoss_G: 349.0587\n",
      "Bal_Acc: 0.5\n",
      "Acc: 0.793254713131478\n"
     ]
    },
    {
     "data": {
      "image/png": "[encoded data removed]",
      "text/plain": [
       "<Figure size 720x360 with 1 Axes>"
      ]
     },
     "metadata": {
      "needs_background": "light"
     },
     "output_type": "display_data"
    },
    {
     "name": "stdout",
     "output_type": "stream",
     "text": [
      "CPU times: user 14min 59s, sys: 59 s, total: 15min 57s\n",
      "Wall time: 12min 30s\n"
     ]
    }
   ],
   "source": [
    "%%time\n",
    "run_experiment(df_new=df2, pos_num_inst=155289, neg_num_inst=40756, num_epochs=2000, out_sh=3,label_f='Class')"
   ]
  }
 ],
 "metadata": {
  "kernelspec": {
   "display_name": "Python 3",
   "language": "python",
   "name": "python3"
  },
  "language_info": {
   "codemirror_mode": {
    "name": "ipython",
    "version": 3
   },
   "file_extension": ".py",
   "mimetype": "text/x-python",
   "name": "python",
   "nbconvert_exporter": "python",
   "pygments_lexer": "ipython3",
   "version": "3.7.9"
  },
  "papermill": {
   "default_parameters": {},
   "duration": 1532.277537,
   "end_time": "2021-03-14T19:23:15.441569",
   "environment_variables": {},
   "exception": null,
   "input_path": "__notebook__.ipynb",
   "output_path": "__notebook__.ipynb",
   "parameters": {},
   "start_time": "2021-03-14T18:57:43.164032",
   "version": "2.2.2"
  }
 },
 "nbformat": 4,
 "nbformat_minor": 4
}
